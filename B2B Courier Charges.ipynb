{
 "cells": [
  {
   "cell_type": "markdown",
   "metadata": {},
   "source": [
    "**ABC Company operates an e-commerce platform and processes thousands of orders daily. To deliver these orders, ABC has partnered with a courier company in India, which charge them based on the weight of the products and the distance between the warehouse and the customer’s delivery address. ABC wants to check if the fees charged by the courier company for each order are correct.**"
   ]
  },
  {
   "cell_type": "markdown",
   "metadata": {},
   "source": [
    "Importing CSV files"
   ]
  },
  {
   "cell_type": "code",
   "execution_count": 1001,
   "metadata": {},
   "outputs": [],
   "source": [
    "import pandas as pd\n",
    "courier_rates = pd.read_csv('D:/Career/Projects/Python/B2B/Courier Company - Rates.csv')\n",
    "invoice = pd.read_csv('D:/Career/Projects/Python/B2B/Invoice.csv')\n",
    "order_report = pd.read_csv('D:/Career/Projects/Python/B2B/Order Report.csv')\n",
    "pincodes = pd.read_csv('D:/Career/Projects/Python/B2B/pincodes.csv')\n",
    "sku_master = pd.read_csv('D:/Career/Projects/Python/B2B/SKU Master.csv')"
   ]
  },
  {
   "cell_type": "markdown",
   "metadata": {},
   "source": [
    "Assuming the courier company's name as XYZ"
   ]
  },
  {
   "cell_type": "markdown",
   "metadata": {},
   "source": [
    "Checking head() of all the imported dataframes"
   ]
  },
  {
   "cell_type": "code",
   "execution_count": 1002,
   "metadata": {},
   "outputs": [
    {
     "name": "stdout",
     "output_type": "stream",
     "text": [
      "Courier Rates of Courier Companies\n",
      "   fwd_a_fixed  fwd_a_additional  fwd_b_fixed  fwd_b_additional  fwd_c_fixed  \\\n",
      "0         29.5              23.6           33              28.3         40.1   \n",
      "\n",
      "   fwd_c_additional  fwd_d_fixed  fwd_d_additional  fwd_e_fixed  \\\n",
      "0              38.9         45.4              44.8         56.6   \n",
      "\n",
      "   fwd_e_additional  rto_a_fixed  rto_a_additional  rto_b_fixed  \\\n",
      "0              55.5         13.6              23.6         20.5   \n",
      "\n",
      "   rto_b_additional  rto_c_fixed  rto_c_additional  rto_d_fixed  \\\n",
      "0              28.3         31.9              38.9         41.3   \n",
      "\n",
      "   rto_d_additional  rto_e_fixed  rto_e_additional  \n",
      "0              44.8         50.7              55.5  \n",
      "\n",
      "Invoice given by Courier Companies\n",
      "        AWB Code    Order ID  Charged Weight  Warehouse Pincode  \\\n",
      "0  1091117222124  2001806232            1.30             121003   \n",
      "1  1091117222194  2001806273            1.00             121003   \n",
      "2  1091117222931  2001806408            2.50             121003   \n",
      "3  1091117223244  2001806458            1.00             121003   \n",
      "4  1091117229345  2001807012            0.15             121003   \n",
      "\n",
      "   Customer Pincode Zone Type of Shipment  Billing Amount (Rs.)  \n",
      "0            507101    d  Forward charges                 135.0  \n",
      "1            486886    d  Forward charges                  90.2  \n",
      "2            532484    d  Forward charges                 224.6  \n",
      "3            143001    b  Forward charges                  61.3  \n",
      "4            515591    d  Forward charges                  45.4  \n",
      "\n",
      "Order Report of ABC Company\n",
      "   ExternOrderNo            SKU  Order Qty  Unnamed: 3  Unnamed: 4\n",
      "0     2001827036  8904223818706        1.0         NaN         NaN\n",
      "1     2001827036  8904223819093        1.0         NaN         NaN\n",
      "2     2001827036  8904223819109        1.0         NaN         NaN\n",
      "3     2001827036  8904223818430        1.0         NaN         NaN\n",
      "4     2001827036  8904223819277        1.0         NaN         NaN\n",
      "\n",
      "Pincodes as per ABC\n",
      "   Warehouse Pincode  Customer Pincode Zone\n",
      "0             121003            507101    d\n",
      "1             121003            486886    d\n",
      "2             121003            532484    d\n",
      "3             121003            143001    b\n",
      "4             121003            515591    d\n",
      "\n",
      "SKU Master(Weight of products as per ABC)\n",
      "             SKU  Weight (g)  Unnamed: 2  Unnamed: 3  Unnamed: 4\n",
      "0  8904223815682         210         NaN         NaN         NaN\n",
      "1  8904223815859         165         NaN         NaN         NaN\n",
      "2  8904223815866         113         NaN         NaN         NaN\n",
      "3  8904223815873          65         NaN         NaN         NaN\n",
      "4  8904223816214         120         NaN         NaN         NaN\n"
     ]
    }
   ],
   "source": [
    "print(\"Courier Rates of Courier Companies\") \n",
    "print(courier_rates.head())\n",
    "print(\"\\nInvoice given by Courier Companies\")\n",
    "print(invoice.head())\n",
    "print(\"\\nOrder Report of ABC Company\")\n",
    "print(order_report.head())\n",
    "print(\"\\nPincodes as per ABC\")\n",
    "print(pincodes.head())\n",
    "print(\"\\nSKU Master(Weight of products as per ABC)\")\n",
    "print(sku_master.head())"
   ]
  },
  {
   "cell_type": "markdown",
   "metadata": {},
   "source": [
    "Checking for null values to see if any data cleaning is required"
   ]
  },
  {
   "cell_type": "code",
   "execution_count": 1003,
   "metadata": {},
   "outputs": [
    {
     "name": "stdout",
     "output_type": "stream",
     "text": [
      "fwd_a_fixed         0\n",
      "fwd_a_additional    0\n",
      "fwd_b_fixed         0\n",
      "fwd_b_additional    0\n",
      "fwd_c_fixed         0\n",
      "fwd_c_additional    0\n",
      "fwd_d_fixed         0\n",
      "fwd_d_additional    0\n",
      "fwd_e_fixed         0\n",
      "fwd_e_additional    0\n",
      "rto_a_fixed         0\n",
      "rto_a_additional    0\n",
      "rto_b_fixed         0\n",
      "rto_b_additional    0\n",
      "rto_c_fixed         0\n",
      "rto_c_additional    0\n",
      "rto_d_fixed         0\n",
      "rto_d_additional    0\n",
      "rto_e_fixed         0\n",
      "rto_e_additional    0\n",
      "dtype: int64\n",
      "AWB Code                0\n",
      "Order ID                0\n",
      "Charged Weight          0\n",
      "Warehouse Pincode       0\n",
      "Customer Pincode        0\n",
      "Zone                    0\n",
      "Type of Shipment        0\n",
      "Billing Amount (Rs.)    0\n",
      "dtype: int64\n",
      "Warehouse Pincode    0\n",
      "Customer Pincode     0\n",
      "Zone                 0\n",
      "dtype: int64\n",
      "ExternOrderNo      0\n",
      "SKU                0\n",
      "Order Qty          0\n",
      "Unnamed: 3       400\n",
      "Unnamed: 4       400\n",
      "dtype: int64\n",
      "SKU            0\n",
      "Weight (g)     0\n",
      "Unnamed: 2    66\n",
      "Unnamed: 3    66\n",
      "Unnamed: 4    66\n",
      "dtype: int64\n"
     ]
    }
   ],
   "source": [
    "print(courier_rates.isnull().sum())\n",
    "print(invoice.isnull().sum())\n",
    "print(pincodes.isnull().sum())\n",
    "print(order_report.isnull().sum())\n",
    "print(sku_master.isnull().sum())"
   ]
  },
  {
   "cell_type": "markdown",
   "metadata": {},
   "source": [
    "Dropping columns which have only null values"
   ]
  },
  {
   "cell_type": "code",
   "execution_count": 1004,
   "metadata": {},
   "outputs": [],
   "source": [
    "order_report = order_report.drop(columns = ['Unnamed: 3', 'Unnamed: 4'], axis=1)\n",
    "sku_master = sku_master.drop(columns = ['Unnamed: 2', 'Unnamed: 3', 'Unnamed: 4'], axis=1)"
   ]
  },
  {
   "cell_type": "markdown",
   "metadata": {},
   "source": [
    "As I noticed that there are repeated order numbers as per the data provided by the courier company. Trying to understand the number of orders as per ABC and Courier company. \n",
    "\n",
    "After running the below count functions. It has been noticed that number of orders match, repeated order numbers by courier company are an order with multiple items in it."
   ]
  },
  {
   "cell_type": "code",
   "execution_count": 1005,
   "metadata": {},
   "outputs": [
    {
     "name": "stdout",
     "output_type": "stream",
     "text": [
      "No. of distinct orders as per Courier company: 124\n",
      "No. of distinct orders as per ABC: 124\n"
     ]
    }
   ],
   "source": [
    "print(\"No. of distinct orders as per Courier company:\", order_report['ExternOrderNo'].nunique())\n",
    "\n",
    "print(\"No. of distinct orders as per ABC:\", invoice['Order ID'].nunique())"
   ]
  },
  {
   "cell_type": "markdown",
   "metadata": {},
   "source": [
    "Merging tables from ABC company and the courier company on column 'order ID'"
   ]
  },
  {
   "cell_type": "code",
   "execution_count": 1006,
   "metadata": {},
   "outputs": [],
   "source": [
    "merged_table = pd.merge(order_report, invoice, left_on='ExternOrderNo', right_on='Order ID', how='inner')"
   ]
  },
  {
   "cell_type": "markdown",
   "metadata": {},
   "source": [
    "Trying to compare if the Zone values provided by the courier company do match with ABC's data"
   ]
  },
  {
   "cell_type": "code",
   "execution_count": 1007,
   "metadata": {},
   "outputs": [
    {
     "name": "stdout",
     "output_type": "stream",
     "text": [
      "Values in at least one of the three columns are different in the DataFrames.\n"
     ]
    }
   ],
   "source": [
    "columns_to_compare = ['Warehouse Pincode', 'Customer Pincode', 'Zone']\n",
    "\n",
    "condition_1 = invoice[columns_to_compare].eq(pincodes[columns_to_compare]).all(axis=1)\n",
    "condition_2 = pincodes[columns_to_compare].eq(invoice[columns_to_compare]).all(axis=1)\n",
    "are_columns_equal = condition_1.all() and condition_2.all()\n",
    "\n",
    "if are_columns_equal:\n",
    "    print(\"Values in all three columns are the same in both DataFrames.\")\n",
    "else:\n",
    "    print(\"Values in at least one of the three columns are different in the DataFrames.\")"
   ]
  },
  {
   "cell_type": "markdown",
   "metadata": {},
   "source": [
    "It is noticed that the values don't match, trying to further understand which columns aren't matching. \n",
    "\n",
    "Because the courier charges are calculated according to the zone and weight of the item, so this has to match before calculating courier charges from ABC's end "
   ]
  },
  {
   "cell_type": "code",
   "execution_count": 1008,
   "metadata": {},
   "outputs": [
    {
     "name": "stdout",
     "output_type": "stream",
     "text": [
      "Customer Pincode matches\n",
      "Warehouse Pincode matches\n",
      "Number of Zone not matching: 65\n"
     ]
    }
   ],
   "source": [
    "#Matching Customer Pincode between both tables\n",
    "\n",
    "if invoice['Customer Pincode'].equals(pincodes['Customer Pincode']):\n",
    "    print ('Customer Pincode matches')\n",
    "else:\n",
    "    count_not_match_customer_pincode = (invoice['Customer Pincode'] != pincodes['Customer Pincode']).sum()\n",
    "    print('Number of Customer Pincode not matching:', count_not_match_customer_pincode)\n",
    "\n",
    "#Matching Warehouse Pincode between both tables\n",
    "\n",
    "if invoice['Warehouse Pincode'].equals(pincodes['Warehouse Pincode']):\n",
    "    print ('Warehouse Pincode matches')\n",
    "else:\n",
    "    count_not_match_warehouse_pincode = (invoice['Warehouse Pincode'] != pincodes['Warehouse Pincode']).sum()\n",
    "    print('Number of Warehouse Pincode not matching:', count_not_match_warehouse_pincode)\n",
    "\n",
    "#Matching Zone between both tables\n",
    "\n",
    "if invoice['Zone'].equals(pincodes['Zone']):\n",
    "    print ('Zone matches')\n",
    "else:\n",
    "    count_not_match_zone = (invoice['Zone'] != pincodes['Zone']).sum()\n",
    "    print('Number of Zone not matching:', count_not_match_zone)"
   ]
  },
  {
   "cell_type": "markdown",
   "metadata": {},
   "source": [
    "It is noticed from the above cell of code that while Customer Pincode and Warehouse Pincode match, Zone isn't matching. \n",
    "\n",
    "It was calculated earlier that we have 124 distinct orders, out of which 65 don't have Zone that align with our data.\n",
    "\n",
    "This means the calculation done by the courier company is either over priced or under priced."
   ]
  },
  {
   "cell_type": "markdown",
   "metadata": {},
   "source": [
    "\n",
    "\n",
    "Further, trying to calculate if weight of the orders does match or not as this is another parameter on which courier charges are calculated."
   ]
  },
  {
   "cell_type": "code",
   "execution_count": 1009,
   "metadata": {},
   "outputs": [],
   "source": [
    "#Merging SKU table into the main table(merged_table)\n",
    "\n",
    "merged_table = pd.merge(merged_table, sku_master[['SKU', 'Weight (g)']], on='SKU', how='left')"
   ]
  },
  {
   "cell_type": "code",
   "execution_count": 1010,
   "metadata": {},
   "outputs": [],
   "source": [
    "#Calculating weight for each order in KGs while rounding off the order weight to a multiple of 0.5\n",
    "\n",
    "weight_calculation = merged_table.groupby('Order ID').agg({'Weight (g)': lambda x: round((x * merged_table['Order Qty']).sum() / 1000, 1)})\n",
    "\n",
    "#Renaming column name after changing the units to Kg\n",
    "\n",
    "weight_calculation = weight_calculation.rename(columns={'Weight (g)': 'Weight (Kgs) per ABC'})\n"
   ]
  },
  {
   "cell_type": "code",
   "execution_count": 1011,
   "metadata": {},
   "outputs": [],
   "source": [
    "merged_table = pd.merge(merged_table, weight_calculation, on='Order ID', how='left')"
   ]
  },
  {
   "cell_type": "code",
   "execution_count": 1012,
   "metadata": {},
   "outputs": [],
   "source": [
    "#Dropping ExternOrderNo as it is a repeat of Order ID and also Weight(g) column as we now have the calculated weight in KGs in merged table & few other columns which have been utilised and are no longer relevant\n",
    "\n",
    "merged_table = merged_table.drop(['ExternOrderNo', 'Weight (g)', 'Order Qty', 'SKU'], axis=1)\n",
    "\n",
    "merged_table = merged_table.rename(columns={'Zone' : 'Zone(Courier Company)'})"
   ]
  },
  {
   "cell_type": "markdown",
   "metadata": {},
   "source": [
    "In order to match zones as per ABC using pincodes from XYZ"
   ]
  },
  {
   "cell_type": "code",
   "execution_count": 1013,
   "metadata": {},
   "outputs": [],
   "source": [
    "# Creating a dictionary mapping (Warehouse Pincode and Customer Pincode) to find the error in Zones as per ABC and XYZ\n",
    "\n",
    "mapping_dict = {(row['Warehouse Pincode'], row['Customer Pincode']): row['Zone'] for _, row in pincodes.iterrows()}\n",
    "\n",
    "# Map the values from pincodes to merged_data and create a new column in merged_data \n",
    "\n",
    "merged_table['Zone(ABC)'] = merged_table.apply(lambda row: mapping_dict.get((row['Warehouse Pincode'], row['Customer Pincode']), pd.NA), axis=1)\n",
    "\n",
    "merged_table = merged_table.rename(columns={'Charged Weight' : 'Charged Weight(XYZ)', 'Billing Amount (Rs.)' : 'Billing Amount(XYZ)'})"
   ]
  },
  {
   "cell_type": "code",
   "execution_count": 1014,
   "metadata": {},
   "outputs": [],
   "source": [
    "#Calculating weight slabs for XYZ\n",
    "\n",
    "weight_slab_xyz = []\n",
    "\n",
    "def weight_slabs_xyz(weights):\n",
    "    for x in weights:\n",
    "        if x%1 == 0:\n",
    "            weight_slab_xyz.append(x)\n",
    "        elif 0 < x % 1 <=0.5:\n",
    "            weight_slab_xyz.append(int(x)+0.5)\n",
    "        elif 0.5 < x % 1 < 1:\n",
    "            weight_slab_xyz.append(int(x)+1)\n",
    "\n",
    "weight_slabs_xyz(merged_table['Charged Weight(XYZ)'])"
   ]
  },
  {
   "cell_type": "code",
   "execution_count": 1015,
   "metadata": {},
   "outputs": [],
   "source": [
    "#Calculating weight slabs for ABC\n",
    "\n",
    "weight_slab_abc = []\n",
    "\n",
    "def weight_slabs_abc(weights):\n",
    "    for x in weights:\n",
    "        if x%1 == 0:\n",
    "            weight_slab_abc.append(x)\n",
    "        elif 0 < x % 1 <=0.5:\n",
    "            weight_slab_abc.append(int(x)+0.5)\n",
    "        elif 0.5 < x % 1 < 1:\n",
    "            weight_slab_abc.append(int(x)+1)\n",
    "\n",
    "weight_slabs_abc(merged_table['Weight (Kgs) per ABC'])\n"
   ]
  },
  {
   "cell_type": "code",
   "execution_count": 1016,
   "metadata": {},
   "outputs": [],
   "source": [
    "#Adding newly calculated weighted slabs into the merged table\n",
    "\n",
    "weights_table = pd.DataFrame({'Column1':weight_slab_abc, 'Column2':weight_slab_xyz,})\n",
    "weights_table = weights_table.rename(columns={'Column1': 'Weight_Slab_ABC', 'Column2': 'Weight_Slab_XYZ'})\n",
    "\n",
    "merged_table = pd.DataFrame(merged_table)\n",
    "merged_table = pd.concat([merged_table, weights_table], axis=1)"
   ]
  },
  {
   "cell_type": "code",
   "execution_count": 1017,
   "metadata": {},
   "outputs": [],
   "source": [
    "#Calculating expected charge as per ABC\n",
    "\n",
    "total_expected_charge = []\n",
    "\n",
    "for _, row in merged_table.iterrows():\n",
    "    fwd_category = 'fwd_' + row['Zone(ABC)']\n",
    "    fwd_fixed = courier_rates.at[0, fwd_category + '_fixed']\n",
    "    fwd_additional = courier_rates.at[0, fwd_category + '_additional']\n",
    "    rto_category = 'rto_' + row['Zone(ABC)']\n",
    "    rto_fixed = courier_rates.at[0, rto_category + '_fixed']\n",
    "    rto_additional = courier_rates.at[0, rto_category + '_additional']\n",
    "\n",
    "    weight_slab = row['Weight_Slab_ABC']\n",
    "\n",
    "    if row['Type of Shipment'] == 'Forward charges':\n",
    "        additional_weight = abs((weight_slab - 0.5) / 0.5)\n",
    "        total_expected_charge.append(fwd_fixed + additional_weight * fwd_additional)\n",
    "    elif row['Type of Shipment'] == 'Forward and RTO charges':\n",
    "        additional_weight = abs((weight_slab - 0.5) / 0.5)\n",
    "        total_expected_charge.append((fwd_fixed + additional_weight * fwd_additional) + (rto_fixed + additional_weight * rto_additional))\n",
    "    else:\n",
    "        total_expected_charge.append(0)\n",
    "\n",
    "merged_table['Expected_Charge_ABC'] = total_expected_charge"
   ]
  },
  {
   "cell_type": "code",
   "execution_count": 1018,
   "metadata": {},
   "outputs": [],
   "source": [
    "#Dropping columns which have been used and no longer relevant. Also, changing the order of columns for better analysis.\n",
    "\n",
    "desired_order_columns = ['Order ID', 'Charged Weight(XYZ)', 'Weight_Slab_XYZ', 'Weight (Kgs) per ABC', 'Weight_Slab_ABC', 'Zone(Courier Company)', 'Zone(ABC)',  'Billing Amount(XYZ)', 'Expected_Charge_ABC', 'Type of Shipment', 'AWB Code']\n",
    "\n",
    "final_table = merged_table[desired_order_columns]\n"
   ]
  },
  {
   "cell_type": "code",
   "execution_count": 1019,
   "metadata": {},
   "outputs": [
    {
     "data": {
      "text/html": [
       "<div>\n",
       "<style scoped>\n",
       "    .dataframe tbody tr th:only-of-type {\n",
       "        vertical-align: middle;\n",
       "    }\n",
       "\n",
       "    .dataframe tbody tr th {\n",
       "        vertical-align: top;\n",
       "    }\n",
       "\n",
       "    .dataframe thead th {\n",
       "        text-align: right;\n",
       "    }\n",
       "</style>\n",
       "<table border=\"1\" class=\"dataframe\">\n",
       "  <thead>\n",
       "    <tr style=\"text-align: right;\">\n",
       "      <th></th>\n",
       "      <th>Order ID</th>\n",
       "      <th>Charged Weight(XYZ)</th>\n",
       "      <th>Weight_Slab_XYZ</th>\n",
       "      <th>Weight (Kgs) per ABC</th>\n",
       "      <th>Weight_Slab_ABC</th>\n",
       "      <th>Zone(Courier Company)</th>\n",
       "      <th>Zone(ABC)</th>\n",
       "      <th>Billing Amount(XYZ)</th>\n",
       "      <th>Expected_Charge_ABC</th>\n",
       "      <th>Type of Shipment</th>\n",
       "      <th>AWB Code</th>\n",
       "    </tr>\n",
       "  </thead>\n",
       "  <tbody>\n",
       "    <tr>\n",
       "      <th>0</th>\n",
       "      <td>2001827036</td>\n",
       "      <td>1.6</td>\n",
       "      <td>2.0</td>\n",
       "      <td>2.2</td>\n",
       "      <td>2.5</td>\n",
       "      <td>b</td>\n",
       "      <td>e</td>\n",
       "      <td>117.9</td>\n",
       "      <td>278.6</td>\n",
       "      <td>Forward charges</td>\n",
       "      <td>1091122418320</td>\n",
       "    </tr>\n",
       "    <tr>\n",
       "      <th>1</th>\n",
       "      <td>2001827036</td>\n",
       "      <td>1.6</td>\n",
       "      <td>2.0</td>\n",
       "      <td>2.2</td>\n",
       "      <td>2.5</td>\n",
       "      <td>b</td>\n",
       "      <td>e</td>\n",
       "      <td>117.9</td>\n",
       "      <td>278.6</td>\n",
       "      <td>Forward charges</td>\n",
       "      <td>1091122418320</td>\n",
       "    </tr>\n",
       "    <tr>\n",
       "      <th>2</th>\n",
       "      <td>2001827036</td>\n",
       "      <td>1.6</td>\n",
       "      <td>2.0</td>\n",
       "      <td>2.2</td>\n",
       "      <td>2.5</td>\n",
       "      <td>b</td>\n",
       "      <td>e</td>\n",
       "      <td>117.9</td>\n",
       "      <td>278.6</td>\n",
       "      <td>Forward charges</td>\n",
       "      <td>1091122418320</td>\n",
       "    </tr>\n",
       "    <tr>\n",
       "      <th>3</th>\n",
       "      <td>2001827036</td>\n",
       "      <td>1.6</td>\n",
       "      <td>2.0</td>\n",
       "      <td>2.2</td>\n",
       "      <td>2.5</td>\n",
       "      <td>b</td>\n",
       "      <td>e</td>\n",
       "      <td>117.9</td>\n",
       "      <td>278.6</td>\n",
       "      <td>Forward charges</td>\n",
       "      <td>1091122418320</td>\n",
       "    </tr>\n",
       "    <tr>\n",
       "      <th>4</th>\n",
       "      <td>2001827036</td>\n",
       "      <td>1.6</td>\n",
       "      <td>2.0</td>\n",
       "      <td>2.2</td>\n",
       "      <td>2.5</td>\n",
       "      <td>b</td>\n",
       "      <td>e</td>\n",
       "      <td>117.9</td>\n",
       "      <td>278.6</td>\n",
       "      <td>Forward charges</td>\n",
       "      <td>1091122418320</td>\n",
       "    </tr>\n",
       "  </tbody>\n",
       "</table>\n",
       "</div>"
      ],
      "text/plain": [
       "     Order ID  Charged Weight(XYZ)  Weight_Slab_XYZ  Weight (Kgs) per ABC  \\\n",
       "0  2001827036                  1.6              2.0                   2.2   \n",
       "1  2001827036                  1.6              2.0                   2.2   \n",
       "2  2001827036                  1.6              2.0                   2.2   \n",
       "3  2001827036                  1.6              2.0                   2.2   \n",
       "4  2001827036                  1.6              2.0                   2.2   \n",
       "\n",
       "   Weight_Slab_ABC Zone(Courier Company) Zone(ABC)  Billing Amount(XYZ)  \\\n",
       "0              2.5                     b         e                117.9   \n",
       "1              2.5                     b         e                117.9   \n",
       "2              2.5                     b         e                117.9   \n",
       "3              2.5                     b         e                117.9   \n",
       "4              2.5                     b         e                117.9   \n",
       "\n",
       "   Expected_Charge_ABC Type of Shipment       AWB Code  \n",
       "0                278.6  Forward charges  1091122418320  \n",
       "1                278.6  Forward charges  1091122418320  \n",
       "2                278.6  Forward charges  1091122418320  \n",
       "3                278.6  Forward charges  1091122418320  \n",
       "4                278.6  Forward charges  1091122418320  "
      ]
     },
     "execution_count": 1019,
     "metadata": {},
     "output_type": "execute_result"
    }
   ],
   "source": [
    "final_table.head()"
   ]
  },
  {
   "cell_type": "markdown",
   "metadata": {},
   "source": [
    "It has been noticed that there are discrepancies in both Zones and charged amount. Earlier while analysis it was noticed that out of 124 pin code pairings, number of Zone not matching was 65\n",
    "\n",
    "Further, trying to analyse the difference in charged amount.  "
   ]
  },
  {
   "cell_type": "code",
   "execution_count": 1020,
   "metadata": {},
   "outputs": [
    {
     "name": "stdout",
     "output_type": "stream",
     "text": [
      "Number of orders Over Charged: 77\n",
      "Number of orders Under Charged: 260\n",
      "Number of orders Correctly Charged: 64\n"
     ]
    }
   ],
   "source": [
    "#How many orders were over charged as per ABC\n",
    "\n",
    "over_charged = []\n",
    "correctly_charged = []\n",
    "under_charged = []\n",
    "\n",
    "for _, row in final_table.iterrows():\n",
    "    if row['Billing Amount(XYZ)'] - row['Expected_Charge_ABC'] == 0:\n",
    "        correctly_charged.append('Correct')\n",
    "    elif row['Billing Amount(XYZ)'] - abs(row['Expected_Charge_ABC']) > 0:\n",
    "        under_charged.append('Under Charged')\n",
    "    elif row['Billing Amount(XYZ)'] - abs(row['Expected_Charge_ABC']) < 0:\n",
    "        over_charged.append('Over Charged')\n",
    "\n",
    "print('Number of orders Over Charged:', len(over_charged))\n",
    "print('Number of orders Under Charged:', len(under_charged))\n",
    "print('Number of orders Correctly Charged:', len(correctly_charged))\n"
   ]
  },
  {
   "cell_type": "markdown",
   "metadata": {},
   "source": [
    "Plotting the proportions of error in fees charged by XYZ"
   ]
  },
  {
   "cell_type": "code",
   "execution_count": 1021,
   "metadata": {},
   "outputs": [
    {
     "data": {
      "image/png": "[encoded data removed]",
      "text/plain": [
       "<Figure size 640x480 with 1 Axes>"
      ]
     },
     "metadata": {},
     "output_type": "display_data"
    }
   ],
   "source": [
    "import matplotlib.pyplot as plt\n",
    "\n",
    "labels = ['over_charged', 'under_charged', 'correctly_charged']\n",
    "values = [len(over_charged), len(under_charged), len(correctly_charged)]\n",
    "\n",
    "plt.pie(values, labels = labels, autopct='%1.1f%%', startangle=90)\n",
    "\n",
    "plt.axis('equal')\n",
    "\n",
    "plt.show()\n",
    "\n"
   ]
  }
 ],
 "metadata": {
  "kernelspec": {
   "display_name": "base",
   "language": "python",
   "name": "python3"
  },
  "language_info": {
   "codemirror_mode": {
    "name": "ipython",
    "version": 3
   },
   "file_extension": ".py",
   "mimetype": "text/x-python",
   "name": "python",
   "nbconvert_exporter": "python",
   "pygments_lexer": "ipython3",
   "version": "0.0.0"
  }
 },
 "nbformat": 4,
 "nbformat_minor": 2
}
